{
  "cells": [
    {
      "cell_type": "code",
      "execution_count": null,
      "metadata": {
        "colab": {
          "base_uri": "https://localhost:8080/"
        },
        "id": "9XoP1LRtdH4i",
        "outputId": "893d9239-819e-483c-d6a5-f1ef9757f2c0"
      },
      "outputs": [
        {
          "output_type": "stream",
          "name": "stdout",
          "text": [
            "Looking in indexes: https://pypi.org/simple, https://us-python.pkg.dev/colab-wheels/public/simple/\n",
            "Collecting deepface\n",
            "  Downloading deepface-0.0.79-py3-none-any.whl (49 kB)\n",
            "\u001b[2K     \u001b[90m━━━━━━━━━━━━━━━━━━━━━━━━━━━━━━━━━━━━━━━━\u001b[0m \u001b[32m49.6/49.6 kB\u001b[0m \u001b[31m3.0 MB/s\u001b[0m eta \u001b[36m0:00:00\u001b[0m\n",
            "\u001b[?25hRequirement already satisfied: Pillow>=5.2.0 in /usr/local/lib/python3.10/dist-packages (from deepface) (8.4.0)\n",
            "Requirement already satisfied: keras>=2.2.0 in /usr/local/lib/python3.10/dist-packages (from deepface) (2.12.0)\n",
            "Collecting fire>=0.4.0\n",
            "  Downloading fire-0.5.0.tar.gz (88 kB)\n",
            "\u001b[2K     \u001b[90m━━━━━━━━━━━━━━━━━━━━━━━━━━━━━━━━━━━━━━━━\u001b[0m \u001b[32m88.3/88.3 kB\u001b[0m \u001b[31m5.5 MB/s\u001b[0m eta \u001b[36m0:00:00\u001b[0m\n",
            "\u001b[?25h  Preparing metadata (setup.py) ... \u001b[?25l\u001b[?25hdone\n",
            "Requirement already satisfied: tqdm>=4.30.0 in /usr/local/lib/python3.10/dist-packages (from deepface) (4.65.0)\n",
            "Collecting mtcnn>=0.1.0\n",
            "  Downloading mtcnn-0.1.1-py3-none-any.whl (2.3 MB)\n",
            "\u001b[2K     \u001b[90m━━━━━━━━━━━━━━━━━━━━━━━━━━━━━━━━━━━━━━━━\u001b[0m \u001b[32m2.3/2.3 MB\u001b[0m \u001b[31m41.7 MB/s\u001b[0m eta \u001b[36m0:00:00\u001b[0m\n",
            "\u001b[?25hCollecting gunicorn>=20.1.0\n",
            "  Downloading gunicorn-20.1.0-py3-none-any.whl (79 kB)\n",
            "\u001b[2K     \u001b[90m━━━━━━━━━━━━━━━━━━━━━━━━━━━━━━━━━━━━━━━━\u001b[0m \u001b[32m79.5/79.5 kB\u001b[0m \u001b[31m11.2 MB/s\u001b[0m eta \u001b[36m0:00:00\u001b[0m\n",
            "\u001b[?25hRequirement already satisfied: gdown>=3.10.1 in /usr/local/lib/python3.10/dist-packages (from deepface) (4.6.6)\n",
            "Requirement already satisfied: opencv-python>=4.5.5.64 in /usr/local/lib/python3.10/dist-packages (from deepface) (4.7.0.72)\n",
            "Requirement already satisfied: Flask>=1.1.2 in /usr/local/lib/python3.10/dist-packages (from deepface) (2.2.4)\n",
            "Collecting retina-face>=0.0.1\n",
            "  Downloading retina_face-0.0.13-py3-none-any.whl (16 kB)\n",
            "Requirement already satisfied: pandas>=0.23.4 in /usr/local/lib/python3.10/dist-packages (from deepface) (1.5.3)\n",
            "Requirement already satisfied: tensorflow>=1.9.0 in /usr/local/lib/python3.10/dist-packages (from deepface) (2.12.0)\n",
            "Requirement already satisfied: numpy>=1.14.0 in /usr/local/lib/python3.10/dist-packages (from deepface) (1.22.4)\n",
            "Requirement already satisfied: six in /usr/local/lib/python3.10/dist-packages (from fire>=0.4.0->deepface) (1.16.0)\n",
            "Requirement already satisfied: termcolor in /usr/local/lib/python3.10/dist-packages (from fire>=0.4.0->deepface) (2.3.0)\n",
            "Requirement already satisfied: click>=8.0 in /usr/local/lib/python3.10/dist-packages (from Flask>=1.1.2->deepface) (8.1.3)\n",
            "Requirement already satisfied: itsdangerous>=2.0 in /usr/local/lib/python3.10/dist-packages (from Flask>=1.1.2->deepface) (2.1.2)\n",
            "Requirement already satisfied: Jinja2>=3.0 in /usr/local/lib/python3.10/dist-packages (from Flask>=1.1.2->deepface) (3.1.2)\n",
            "Requirement already satisfied: Werkzeug>=2.2.2 in /usr/local/lib/python3.10/dist-packages (from Flask>=1.1.2->deepface) (2.3.0)\n",
            "Requirement already satisfied: filelock in /usr/local/lib/python3.10/dist-packages (from gdown>=3.10.1->deepface) (3.12.0)\n",
            "Requirement already satisfied: beautifulsoup4 in /usr/local/lib/python3.10/dist-packages (from gdown>=3.10.1->deepface) (4.11.2)\n",
            "Requirement already satisfied: requests[socks] in /usr/local/lib/python3.10/dist-packages (from gdown>=3.10.1->deepface) (2.27.1)\n",
            "Requirement already satisfied: setuptools>=3.0 in /usr/local/lib/python3.10/dist-packages (from gunicorn>=20.1.0->deepface) (67.7.2)\n",
            "Requirement already satisfied: python-dateutil>=2.8.1 in /usr/local/lib/python3.10/dist-packages (from pandas>=0.23.4->deepface) (2.8.2)\n",
            "Requirement already satisfied: pytz>=2020.1 in /usr/local/lib/python3.10/dist-packages (from pandas>=0.23.4->deepface) (2022.7.1)\n",
            "Requirement already satisfied: flatbuffers>=2.0 in /usr/local/lib/python3.10/dist-packages (from tensorflow>=1.9.0->deepface) (23.3.3)\n",
            "Requirement already satisfied: tensorboard<2.13,>=2.12 in /usr/local/lib/python3.10/dist-packages (from tensorflow>=1.9.0->deepface) (2.12.2)\n",
            "Requirement already satisfied: tensorflow-estimator<2.13,>=2.12.0 in /usr/local/lib/python3.10/dist-packages (from tensorflow>=1.9.0->deepface) (2.12.0)\n",
            "Requirement already satisfied: packaging in /usr/local/lib/python3.10/dist-packages (from tensorflow>=1.9.0->deepface) (23.1)\n",
            "Requirement already satisfied: grpcio<2.0,>=1.24.3 in /usr/local/lib/python3.10/dist-packages (from tensorflow>=1.9.0->deepface) (1.54.0)\n",
            "Requirement already satisfied: google-pasta>=0.1.1 in /usr/local/lib/python3.10/dist-packages (from tensorflow>=1.9.0->deepface) (0.2.0)\n",
            "Requirement already satisfied: libclang>=13.0.0 in /usr/local/lib/python3.10/dist-packages (from tensorflow>=1.9.0->deepface) (16.0.0)\n",
            "Requirement already satisfied: absl-py>=1.0.0 in /usr/local/lib/python3.10/dist-packages (from tensorflow>=1.9.0->deepface) (1.4.0)\n",
            "Requirement already satisfied: typing-extensions>=3.6.6 in /usr/local/lib/python3.10/dist-packages (from tensorflow>=1.9.0->deepface) (4.5.0)\n",
            "Requirement already satisfied: astunparse>=1.6.0 in /usr/local/lib/python3.10/dist-packages (from tensorflow>=1.9.0->deepface) (1.6.3)\n",
            "Requirement already satisfied: opt-einsum>=2.3.2 in /usr/local/lib/python3.10/dist-packages (from tensorflow>=1.9.0->deepface) (3.3.0)\n",
            "Requirement already satisfied: tensorflow-io-gcs-filesystem>=0.23.1 in /usr/local/lib/python3.10/dist-packages (from tensorflow>=1.9.0->deepface) (0.32.0)\n",
            "Requirement already satisfied: h5py>=2.9.0 in /usr/local/lib/python3.10/dist-packages (from tensorflow>=1.9.0->deepface) (3.8.0)\n",
            "Requirement already satisfied: gast<=0.4.0,>=0.2.1 in /usr/local/lib/python3.10/dist-packages (from tensorflow>=1.9.0->deepface) (0.4.0)\n",
            "Requirement already satisfied: jax>=0.3.15 in /usr/local/lib/python3.10/dist-packages (from tensorflow>=1.9.0->deepface) (0.4.8)\n",
            "Requirement already satisfied: protobuf!=4.21.0,!=4.21.1,!=4.21.2,!=4.21.3,!=4.21.4,!=4.21.5,<5.0.0dev,>=3.20.3 in /usr/local/lib/python3.10/dist-packages (from tensorflow>=1.9.0->deepface) (3.20.3)\n",
            "Requirement already satisfied: wrapt<1.15,>=1.11.0 in /usr/local/lib/python3.10/dist-packages (from tensorflow>=1.9.0->deepface) (1.14.1)\n",
            "Requirement already satisfied: wheel<1.0,>=0.23.0 in /usr/local/lib/python3.10/dist-packages (from astunparse>=1.6.0->tensorflow>=1.9.0->deepface) (0.40.0)\n",
            "Requirement already satisfied: ml-dtypes>=0.0.3 in /usr/local/lib/python3.10/dist-packages (from jax>=0.3.15->tensorflow>=1.9.0->deepface) (0.1.0)\n",
            "Requirement already satisfied: scipy>=1.7 in /usr/local/lib/python3.10/dist-packages (from jax>=0.3.15->tensorflow>=1.9.0->deepface) (1.10.1)\n",
            "Requirement already satisfied: MarkupSafe>=2.0 in /usr/local/lib/python3.10/dist-packages (from Jinja2>=3.0->Flask>=1.1.2->deepface) (2.1.2)\n",
            "Requirement already satisfied: google-auth<3,>=1.6.3 in /usr/local/lib/python3.10/dist-packages (from tensorboard<2.13,>=2.12->tensorflow>=1.9.0->deepface) (2.17.3)\n",
            "Requirement already satisfied: markdown>=2.6.8 in /usr/local/lib/python3.10/dist-packages (from tensorboard<2.13,>=2.12->tensorflow>=1.9.0->deepface) (3.4.3)\n",
            "Requirement already satisfied: google-auth-oauthlib<1.1,>=0.5 in /usr/local/lib/python3.10/dist-packages (from tensorboard<2.13,>=2.12->tensorflow>=1.9.0->deepface) (1.0.0)\n",
            "Requirement already satisfied: tensorboard-data-server<0.8.0,>=0.7.0 in /usr/local/lib/python3.10/dist-packages (from tensorboard<2.13,>=2.12->tensorflow>=1.9.0->deepface) (0.7.0)\n",
            "Requirement already satisfied: tensorboard-plugin-wit>=1.6.0 in /usr/local/lib/python3.10/dist-packages (from tensorboard<2.13,>=2.12->tensorflow>=1.9.0->deepface) (1.8.1)\n",
            "Requirement already satisfied: soupsieve>1.2 in /usr/local/lib/python3.10/dist-packages (from beautifulsoup4->gdown>=3.10.1->deepface) (2.4.1)\n",
            "Requirement already satisfied: urllib3<1.27,>=1.21.1 in /usr/local/lib/python3.10/dist-packages (from requests[socks]->gdown>=3.10.1->deepface) (1.26.15)\n",
            "Requirement already satisfied: certifi>=2017.4.17 in /usr/local/lib/python3.10/dist-packages (from requests[socks]->gdown>=3.10.1->deepface) (2022.12.7)\n",
            "Requirement already satisfied: idna<4,>=2.5 in /usr/local/lib/python3.10/dist-packages (from requests[socks]->gdown>=3.10.1->deepface) (3.4)\n",
            "Requirement already satisfied: charset-normalizer~=2.0.0 in /usr/local/lib/python3.10/dist-packages (from requests[socks]->gdown>=3.10.1->deepface) (2.0.12)\n",
            "Requirement already satisfied: PySocks!=1.5.7,>=1.5.6 in /usr/local/lib/python3.10/dist-packages (from requests[socks]->gdown>=3.10.1->deepface) (1.7.1)\n",
            "Requirement already satisfied: pyasn1-modules>=0.2.1 in /usr/local/lib/python3.10/dist-packages (from google-auth<3,>=1.6.3->tensorboard<2.13,>=2.12->tensorflow>=1.9.0->deepface) (0.3.0)\n",
            "Requirement already satisfied: cachetools<6.0,>=2.0.0 in /usr/local/lib/python3.10/dist-packages (from google-auth<3,>=1.6.3->tensorboard<2.13,>=2.12->tensorflow>=1.9.0->deepface) (5.3.0)\n",
            "Requirement already satisfied: rsa<5,>=3.1.4 in /usr/local/lib/python3.10/dist-packages (from google-auth<3,>=1.6.3->tensorboard<2.13,>=2.12->tensorflow>=1.9.0->deepface) (4.9)\n",
            "Requirement already satisfied: requests-oauthlib>=0.7.0 in /usr/local/lib/python3.10/dist-packages (from google-auth-oauthlib<1.1,>=0.5->tensorboard<2.13,>=2.12->tensorflow>=1.9.0->deepface) (1.3.1)\n",
            "Requirement already satisfied: pyasn1<0.6.0,>=0.4.6 in /usr/local/lib/python3.10/dist-packages (from pyasn1-modules>=0.2.1->google-auth<3,>=1.6.3->tensorboard<2.13,>=2.12->tensorflow>=1.9.0->deepface) (0.5.0)\n",
            "Requirement already satisfied: oauthlib>=3.0.0 in /usr/local/lib/python3.10/dist-packages (from requests-oauthlib>=0.7.0->google-auth-oauthlib<1.1,>=0.5->tensorboard<2.13,>=2.12->tensorflow>=1.9.0->deepface) (3.2.2)\n",
            "Building wheels for collected packages: fire\n",
            "  Building wheel for fire (setup.py) ... \u001b[?25l\u001b[?25hdone\n",
            "  Created wheel for fire: filename=fire-0.5.0-py2.py3-none-any.whl size=116952 sha256=9ca98994d0cb7ae0563787d05acacd356e88e7dd68ebb215216ee512127c155a\n",
            "  Stored in directory: /root/.cache/pip/wheels/90/d4/f7/9404e5db0116bd4d43e5666eaa3e70ab53723e1e3ea40c9a95\n",
            "Successfully built fire\n",
            "Installing collected packages: gunicorn, fire, mtcnn, retina-face, deepface\n",
            "Successfully installed deepface-0.0.79 fire-0.5.0 gunicorn-20.1.0 mtcnn-0.1.1 retina-face-0.0.13\n"
          ]
        }
      ],
      "source": [
        "!pip install deepface\n"
      ]
    },
    {
      "cell_type": "code",
      "execution_count": null,
      "metadata": {
        "colab": {
          "base_uri": "https://localhost:8080/"
        },
        "id": "yeeN5-Ocp7mx",
        "outputId": "b10f32c7-2e5a-4e9f-804d-a359447d8740"
      },
      "outputs": [
        {
          "output_type": "stream",
          "name": "stdout",
          "text": [
            "Looking in indexes: https://pypi.org/simple, https://us-python.pkg.dev/colab-wheels/public/simple/\n",
            "Collecting face_recognition\n",
            "  Downloading face_recognition-1.3.0-py2.py3-none-any.whl (15 kB)\n",
            "Requirement already satisfied: dlib>=19.7 in /usr/local/lib/python3.10/dist-packages (from face_recognition) (19.24.1)\n",
            "Requirement already satisfied: numpy in /usr/local/lib/python3.10/dist-packages (from face_recognition) (1.22.4)\n",
            "Requirement already satisfied: Pillow in /usr/local/lib/python3.10/dist-packages (from face_recognition) (8.4.0)\n",
            "Requirement already satisfied: Click>=6.0 in /usr/local/lib/python3.10/dist-packages (from face_recognition) (8.1.3)\n",
            "Collecting face-recognition-models>=0.3.0\n",
            "  Downloading face_recognition_models-0.3.0.tar.gz (100.1 MB)\n",
            "\u001b[2K     \u001b[90m━━━━━━━━━━━━━━━━━━━━━━━━━━━━━━━━━━━━━━━\u001b[0m \u001b[32m100.1/100.1 MB\u001b[0m \u001b[31m9.5 MB/s\u001b[0m eta \u001b[36m0:00:00\u001b[0m\n",
            "\u001b[?25h  Preparing metadata (setup.py) ... \u001b[?25l\u001b[?25hdone\n",
            "Building wheels for collected packages: face-recognition-models\n",
            "  Building wheel for face-recognition-models (setup.py) ... \u001b[?25l\u001b[?25hdone\n",
            "  Created wheel for face-recognition-models: filename=face_recognition_models-0.3.0-py2.py3-none-any.whl size=100566185 sha256=e91f43c93a817dfe40deceac067741dfb6b191a19682b65ea669f2a004d1d2cc\n",
            "  Stored in directory: /root/.cache/pip/wheels/7a/eb/cf/e9eced74122b679557f597bb7c8e4c739cfcac526db1fd523d\n",
            "Successfully built face-recognition-models\n",
            "Installing collected packages: face-recognition-models, face_recognition\n",
            "Successfully installed face-recognition-models-0.3.0 face_recognition-1.3.0\n"
          ]
        }
      ],
      "source": [
        "!pip install face_recognition\n"
      ]
    },
    {
      "cell_type": "code",
      "execution_count": null,
      "metadata": {
        "colab": {
          "base_uri": "https://localhost:8080/"
        },
        "id": "Vrmx-aRS5BO-",
        "outputId": "45d55a8e-d276-46f9-f7c1-ac2e73a18dc4"
      },
      "outputs": [
        {
          "output_type": "stream",
          "name": "stdout",
          "text": [
            "Looking in indexes: https://pypi.org/simple, https://us-python.pkg.dev/colab-wheels/public/simple/\n",
            "Requirement already satisfied: face_recognition in /usr/local/lib/python3.10/dist-packages (1.3.0)\n",
            "Requirement already satisfied: Pillow in /usr/local/lib/python3.10/dist-packages (from face_recognition) (8.4.0)\n",
            "Requirement already satisfied: dlib>=19.7 in /usr/local/lib/python3.10/dist-packages (from face_recognition) (19.24.1)\n",
            "Requirement already satisfied: face-recognition-models>=0.3.0 in /usr/local/lib/python3.10/dist-packages (from face_recognition) (0.3.0)\n",
            "Requirement already satisfied: numpy in /usr/local/lib/python3.10/dist-packages (from face_recognition) (1.22.4)\n",
            "Requirement already satisfied: Click>=6.0 in /usr/local/lib/python3.10/dist-packages (from face_recognition) (8.1.3)\n"
          ]
        }
      ],
      "source": [
        "!pip install face_recognition"
      ]
    },
    {
      "cell_type": "code",
      "execution_count": null,
      "metadata": {
        "id": "al8MKswEmU23"
      },
      "outputs": [],
      "source": [
        "from deepface import DeepFace\n"
      ]
    },
    {
      "cell_type": "code",
      "execution_count": null,
      "metadata": {
        "id": "W3IrU3lUfYhX",
        "colab": {
          "base_uri": "https://localhost:8080/"
        },
        "outputId": "72269732-705a-4c19-e481-a6bd2c3b0a0e"
      },
      "outputs": [
        {
          "output_type": "stream",
          "name": "stdout",
          "text": [
            "Mounted at /content/gdrive\n"
          ]
        }
      ],
      "source": [
        "from google.colab import drive\n",
        "drive.mount(\"/content/gdrive\")"
      ]
    },
    {
      "cell_type": "code",
      "execution_count": null,
      "metadata": {
        "colab": {
          "base_uri": "https://localhost:8080/"
        },
        "id": "6bpJhmiiY4rd",
        "outputId": "a2752bf1-ffc8-49c3-b196-acce102ba9c0"
      },
      "outputs": [
        {
          "output_type": "stream",
          "name": "stdout",
          "text": [
            "Looking in indexes: https://pypi.org/simple, https://us-python.pkg.dev/colab-wheels/public/simple/\n",
            "Requirement already satisfied: face_recognition in /usr/local/lib/python3.10/dist-packages (1.3.0)\n",
            "Requirement already satisfied: dlib>=19.7 in /usr/local/lib/python3.10/dist-packages (from face_recognition) (19.24.1)\n",
            "Requirement already satisfied: Pillow in /usr/local/lib/python3.10/dist-packages (from face_recognition) (8.4.0)\n",
            "Requirement already satisfied: numpy in /usr/local/lib/python3.10/dist-packages (from face_recognition) (1.22.4)\n",
            "Requirement already satisfied: face-recognition-models>=0.3.0 in /usr/local/lib/python3.10/dist-packages (from face_recognition) (0.3.0)\n",
            "Requirement already satisfied: Click>=6.0 in /usr/local/lib/python3.10/dist-packages (from face_recognition) (8.1.3)\n"
          ]
        }
      ],
      "source": [
        "from PIL import Image\n",
        "!pip install face_recognition\n",
        "import face_recognition\n",
        "image = face_recognition.load_image_file(\"/content/gdrive/MyDrive/License.jpeg\")\n",
        "top, right, bottom, left = face_recognition.face_locations(image)[0]\n",
        "face_image = image[top:bottom, left:right]\n",
        "cropped_face = Image.fromarray(face_image)"
      ]
    },
    {
      "cell_type": "code",
      "execution_count": null,
      "metadata": {
        "colab": {
          "base_uri": "https://localhost:8080/",
          "height": 172
        },
        "id": "yyzWNP4fZMKD",
        "outputId": "590a42af-8181-44f7-c935-2b67671057b0"
      },
      "outputs": [
        {
          "output_type": "execute_result",
          "data": {
            "text/plain": [
              "<PIL.Image.Image image mode=RGB size=155x155 at 0x7F391C472B00>"
            ],
            "image/png": "[encoded data removed]"
          },
          "metadata": {},
          "execution_count": 5
        }
      ],
      "source": [
        "cropped_face"
      ]
    },
    {
      "cell_type": "code",
      "execution_count": null,
      "metadata": {
        "colab": {
          "base_uri": "https://localhost:8080/"
        },
        "id": "ES2vcn1tcLt5",
        "outputId": "3f414667-c717-4d2c-9685-0a19fa9f6351"
      },
      "outputs": [
        {
          "output_type": "stream",
          "name": "stdout",
          "text": [
            "Looking in indexes: https://pypi.org/simple, https://us-python.pkg.dev/colab-wheels/public/simple/\n",
            "Collecting ffmpeg\n",
            "  Downloading ffmpeg-1.4.tar.gz (5.1 kB)\n",
            "  Preparing metadata (setup.py) ... \u001b[?25l\u001b[?25hdone\n",
            "Building wheels for collected packages: ffmpeg\n",
            "  Building wheel for ffmpeg (setup.py) ... \u001b[?25l\u001b[?25hdone\n",
            "  Created wheel for ffmpeg: filename=ffmpeg-1.4-py3-none-any.whl size=6083 sha256=7db7efb87f9c344b33913ae6d071eb3093bfbc828651bef246cafaa4419095f8\n",
            "  Stored in directory: /root/.cache/pip/wheels/8e/7a/69/cd6aeb83b126a7f04cbe7c9d929028dc52a6e7d525ff56003a\n",
            "Successfully built ffmpeg\n",
            "Installing collected packages: ffmpeg\n",
            "Successfully installed ffmpeg-1.4\n"
          ]
        }
      ],
      "source": [
        "!pip3 install ffmpeg"
      ]
    },
    {
      "cell_type": "code",
      "execution_count": null,
      "metadata": {
        "id": "KKZZs3hJcVM3"
      },
      "outputs": [],
      "source": [
        "# ''''''\n",
        "# Constant variables that need to be refer\n",
        "# ''''''\n",
        "\n",
        "# Extensions for images and videos\n",
        "ALLOWED__PICTURE_EXTENSIONS = ('.png', '.jpg', '.jpeg', '.gif')\n",
        "ALLOWED_VIDEO_EXTENSIONS = ('mp4', 'avi', 'webm', 'mov')\n",
        "\n",
        "# Constant variable for directory\n",
        "frames_folder = \"./frames\"\n",
        "upload_folder = \"./upload\"\n",
        "\n",
        "# Constant threshold for resizing\n",
        "frame_size_threshold = 200000\n",
        "image_size_threshold = 500000\n",
        "max_resize = 40000\n",
        "\n",
        "# key strings source type checking\n",
        "source_type_image = \"image\"\n",
        "source_type_video = \"video\""
      ]
    },
    {
      "cell_type": "code",
      "execution_count": null,
      "metadata": {
        "colab": {
          "base_uri": "https://localhost:8080/"
        },
        "id": "MThgVnJ66V49",
        "outputId": "a5df2d08-8aad-4058-819d-7e09bb9c64b9"
      },
      "outputs": [
        {
          "output_type": "stream",
          "name": "stdout",
          "text": [
            "Looking in indexes: https://pypi.org/simple, https://us-python.pkg.dev/colab-wheels/public/simple/\n",
            "Requirement already satisfied: ffmpeg in /usr/local/lib/python3.10/dist-packages (1.4)\n",
            "Looking in indexes: https://pypi.org/simple, https://us-python.pkg.dev/colab-wheels/public/simple/\n",
            "Requirement already satisfied: face_recognition in /usr/local/lib/python3.10/dist-packages (1.3.0)\n",
            "Requirement already satisfied: numpy in /usr/local/lib/python3.10/dist-packages (from face_recognition) (1.22.4)\n",
            "Requirement already satisfied: face-recognition-models>=0.3.0 in /usr/local/lib/python3.10/dist-packages (from face_recognition) (0.3.0)\n",
            "Requirement already satisfied: Pillow in /usr/local/lib/python3.10/dist-packages (from face_recognition) (8.4.0)\n",
            "Requirement already satisfied: dlib>=19.7 in /usr/local/lib/python3.10/dist-packages (from face_recognition) (19.24.1)\n",
            "Requirement already satisfied: Click>=6.0 in /usr/local/lib/python3.10/dist-packages (from face_recognition) (8.1.3)\n"
          ]
        }
      ],
      "source": [
        "!pip install ffmpeg\n",
        "!pip install face_recognition\n",
        "\n",
        "import math\n",
        "import os\n",
        "\n",
        "import cv2\n",
        "import ffmpeg\n",
        "import h5py\n",
        "\n",
        "\n",
        "import face_recognition"
      ]
    },
    {
      "cell_type": "code",
      "execution_count": null,
      "metadata": {
        "colab": {
          "base_uri": "https://localhost:8080/"
        },
        "id": "dcLADofkcHIG",
        "outputId": "e97c3504-3145-478a-d5b0-7e71e3631f61"
      },
      "outputs": [
        {
          "output_type": "stream",
          "name": "stdout",
          "text": [
            "/content/gdrive/MyDrive/images/frame_0.jpg\n",
            "/content/gdrive/MyDrive/images/frame_1.jpg\n",
            "/content/gdrive/MyDrive/images/frame_2.jpg\n",
            "There is at least one face in frame. Continue matching the face\n"
          ]
        }
      ],
      "source": [
        "import math\n",
        "import os\n",
        "\n",
        "import cv2\n",
        "import ffmpeg\n",
        "import h5py\n",
        "\n",
        "\n",
        "import face_recognition\n",
        "\n",
        "def check_rotation(path_video_file):\n",
        "    # Start checking orientation of video received\n",
        "    print(\"Checking orientation of video received\")\n",
        "\n",
        "    # this returns meta-data of the video file in form of a dictionary\n",
        "    meta_dict = ffmpeg.probe(path_video_file)\n",
        "\n",
        "    # from the dictionary, meta_dict['streams'][0]['tags']['rotate'] is the key we are looking for\n",
        "    rotate_code = None\n",
        "    rotate_angle = 'NO_ROTATE'\n",
        "\n",
        "    # try rotate the image by finding rotate key meta_dict\n",
        "    # if no, prompt message and skip\n",
        "    for stream in meta_dict['streams']:\n",
        "        if 'rotate' in stream['tags']:\n",
        "            if int(stream['tags']['rotate']) == 90:\n",
        "                rotate_code = cv2.ROTATE_90_CLOCKWISE\n",
        "                rotate_angle = 'ROTATE_90_CLOCKWISE'\n",
        "            elif int(stream['tags']['rotate']) == 180:\n",
        "                rotate_code = cv2.ROTATE_180\n",
        "                rotate_angle = 'ROTATE_180'\n",
        "            elif int(stream['tags']['rotate']) == 270:\n",
        "                rotate_code = cv2.ROTATE_90_COUNTERCLOCKWISE\n",
        "                rotate_angle = 'ROTATE_90_COUNTERCLOCKWISE'\n",
        "            else:\n",
        "                print(\"No rotation metadata. Skip check rotation\")\n",
        "\n",
        "    print(\"Rotated to = \", rotate_angle)\n",
        "    return rotate_code\n",
        "\n",
        "\n",
        "def correct_rotation(frame, rotate_code):\n",
        "    return cv2.rotate(frame, rotate_code)\n",
        "\n",
        "\n",
        "def extract_frames_from_video(video_path, request_frames_folder_path):\n",
        "    count = 0\n",
        "\n",
        "    # check if video requires rotation\n",
        "    # rotate_code = check_rotation(video_path)\n",
        "\n",
        "    cap = cv2.VideoCapture(video_path)\n",
        "    frame_rate = cap.get(5)  # frame rate\n",
        "\n",
        "    while cap.isOpened():\n",
        "        frame_id = cap.get(1)  # current frame number\n",
        "        ret, frame = cap.read()\n",
        "        if ret:\n",
        "\n",
        "            # check rotate_code\n",
        "            # If got code, rotate the frame back to original orientation\n",
        "            # if rotate_code is not None:\n",
        "            #     frame = correct_rotation(frame, rotate_code)\n",
        "\n",
        "            if frame_id % math.floor(frame_rate) == 0:\n",
        "                print('Extract the new %d frame of video...' % count)\n",
        "                cv2.imwrite(request_frames_folder_path + '/frame_%d.jpg' % count, frame)\n",
        "\n",
        "                # check extracted frame size is large than\n",
        "                frame_size = os.stat(request_frames_folder_path + '/frame_%d.jpg' % count).st_size\n",
        "\n",
        "                if frame_size > frame_size_threshold:\n",
        "                    print('Resizing the new %d frame of video...' % count)\n",
        "                    frame = cv2.resize(frame, None, fx=0.1, fy=0.1, interpolation=cv2.INTER_AREA)\n",
        "                    cv2.imwrite(request_frames_folder_path + '/frame_%d.jpg' % count, frame)\n",
        "\n",
        "                count = count + 1\n",
        "        else:\n",
        "            break\n",
        "\n",
        "    cap.release()\n",
        "request_frames_folder_path=\"/content/gdrive/MyDrive/images\"\n",
        "extract_frames_from_video(\"/WIN_20221012_09_26_09_Pro (1).mp4\", request_frames_folder_path)\n",
        "\n",
        "for i, frame in enumerate(os.listdir(request_frames_folder_path)):\n",
        "  if(str(frame)==\".ipynb_checkpoints\"):\n",
        "    continue\n",
        "  absolute_video_frame_directory_file = os.path.join(request_frames_folder_path, frame)\n",
        "  print(absolute_video_frame_directory_file)\n",
        "  unknown_image = face_recognition.load_image_file(absolute_video_frame_directory_file)\n",
        "  unknown_face_encodings = face_recognition.face_encodings(unknown_image)\n",
        "  if len(unknown_face_encodings) > 0:\n",
        "      face_found_in_video = True\n",
        "      print(\"There is at least one face in frame. Continue matching the face\")\n",
        "      break"
      ]
    },
    {
      "cell_type": "code",
      "execution_count": null,
      "metadata": {
        "colab": {
          "base_uri": "https://localhost:8080/"
        },
        "id": "J_XHiBceh9F8",
        "outputId": "61687c61-194f-4858-b1e4-8f5f6635e1b7"
      },
      "outputs": [
        {
          "output_type": "stream",
          "name": "stdout",
          "text": [
            "Found face in image\n",
            "Hi\n",
            "frame_0.jpg\n",
            "Done\n",
            "Did not found face in either image or video. Can't proceed to compare with image\n",
            "Hi\n",
            "frame_1.jpg\n",
            "Done\n",
            "Did not found face in either image or video. Can't proceed to compare with image\n",
            "Hi\n",
            "frame_2.jpg\n",
            "Matching the face in frame 2...\n",
            "[-0.12938154  0.04397871  0.12008181 -0.1116945  -0.04480134 -0.01133937\n",
            " -0.06303881 -0.08296648  0.1343292  -0.11679567  0.17539909  0.02214931\n",
            " -0.18669552 -0.09800345 -0.02907153  0.09101044 -0.08470522 -0.1744433\n",
            "  0.04150622 -0.06455001  0.04269253  0.04895158 -0.04242545  0.06575406\n",
            " -0.15585041 -0.32681337 -0.11523079 -0.06075643 -0.05885307 -0.06793226\n",
            " -0.01753602  0.11334543 -0.19832687 -0.01332787 -0.04076429  0.13203214\n",
            " -0.05002024 -0.03148558  0.18131378  0.03252873 -0.11749629 -0.00298353\n",
            "  0.01059557  0.33547136  0.12062614 -0.02287051  0.01261152 -0.01118436\n",
            "  0.1045344  -0.25174338  0.01908216  0.1830498   0.04183596  0.09766393\n",
            "  0.04255342 -0.06399718  0.08264238  0.08016318 -0.23357528  0.05872496\n",
            " -0.03939434 -0.15431258  0.00501857 -0.05328491  0.25379974  0.13406867\n",
            " -0.08882204 -0.06490285  0.16253754 -0.12021013 -0.0766991   0.0118854\n",
            " -0.12652619 -0.15868896 -0.27681756  0.08987486  0.37426853  0.18181531\n",
            " -0.20084015  0.12165369 -0.06736369 -0.04338399  0.13182542  0.08785668\n",
            " -0.0577614   0.0782269  -0.07089324  0.09730944  0.19480614  0.03451128\n",
            " -0.0410722   0.20230861  0.05983687  0.09413481  0.12193286  0.04677014\n",
            " -0.03352085 -0.0254445  -0.18052951  0.05484973  0.00689548 -0.05512176\n",
            "  0.01921362  0.12395191 -0.12390513  0.19541574  0.0705426  -0.05301466\n",
            " -0.05805055  0.04601187 -0.09193395 -0.07071915  0.07559211 -0.25744557\n",
            "  0.16632819  0.11917676  0.00046282  0.19935989  0.0487837   0.06326503\n",
            " -0.06395945 -0.08960283 -0.08717121 -0.06204791  0.1137268   0.04170532\n",
            "  0.10794377  0.06155992]\n",
            "\n",
            "Hi\n",
            "frame_3.jpg\n",
            "Matching the face in frame 3...\n",
            "[-0.12938154  0.04397871  0.12008181 -0.1116945  -0.04480134 -0.01133937\n",
            " -0.06303881 -0.08296648  0.1343292  -0.11679567  0.17539909  0.02214931\n",
            " -0.18669552 -0.09800345 -0.02907153  0.09101044 -0.08470522 -0.1744433\n",
            "  0.04150622 -0.06455001  0.04269253  0.04895158 -0.04242545  0.06575406\n",
            " -0.15585041 -0.32681337 -0.11523079 -0.06075643 -0.05885307 -0.06793226\n",
            " -0.01753602  0.11334543 -0.19832687 -0.01332787 -0.04076429  0.13203214\n",
            " -0.05002024 -0.03148558  0.18131378  0.03252873 -0.11749629 -0.00298353\n",
            "  0.01059557  0.33547136  0.12062614 -0.02287051  0.01261152 -0.01118436\n",
            "  0.1045344  -0.25174338  0.01908216  0.1830498   0.04183596  0.09766393\n",
            "  0.04255342 -0.06399718  0.08264238  0.08016318 -0.23357528  0.05872496\n",
            " -0.03939434 -0.15431258  0.00501857 -0.05328491  0.25379974  0.13406867\n",
            " -0.08882204 -0.06490285  0.16253754 -0.12021013 -0.0766991   0.0118854\n",
            " -0.12652619 -0.15868896 -0.27681756  0.08987486  0.37426853  0.18181531\n",
            " -0.20084015  0.12165369 -0.06736369 -0.04338399  0.13182542  0.08785668\n",
            " -0.0577614   0.0782269  -0.07089324  0.09730944  0.19480614  0.03451128\n",
            " -0.0410722   0.20230861  0.05983687  0.09413481  0.12193286  0.04677014\n",
            " -0.03352085 -0.0254445  -0.18052951  0.05484973  0.00689548 -0.05512176\n",
            "  0.01921362  0.12395191 -0.12390513  0.19541574  0.0705426  -0.05301466\n",
            " -0.05805055  0.04601187 -0.09193395 -0.07071915  0.07559211 -0.25744557\n",
            "  0.16632819  0.11917676  0.00046282  0.19935989  0.0487837   0.06326503\n",
            " -0.06395945 -0.08960283 -0.08717121 -0.06204791  0.1137268   0.04170532\n",
            "  0.10794377  0.06155992]\n",
            "\n",
            "Hi\n",
            "frame_4.jpg\n",
            "Matching the face in frame 4...\n",
            "[-0.12938154  0.04397871  0.12008181 -0.1116945  -0.04480134 -0.01133937\n",
            " -0.06303881 -0.08296648  0.1343292  -0.11679567  0.17539909  0.02214931\n",
            " -0.18669552 -0.09800345 -0.02907153  0.09101044 -0.08470522 -0.1744433\n",
            "  0.04150622 -0.06455001  0.04269253  0.04895158 -0.04242545  0.06575406\n",
            " -0.15585041 -0.32681337 -0.11523079 -0.06075643 -0.05885307 -0.06793226\n",
            " -0.01753602  0.11334543 -0.19832687 -0.01332787 -0.04076429  0.13203214\n",
            " -0.05002024 -0.03148558  0.18131378  0.03252873 -0.11749629 -0.00298353\n",
            "  0.01059557  0.33547136  0.12062614 -0.02287051  0.01261152 -0.01118436\n",
            "  0.1045344  -0.25174338  0.01908216  0.1830498   0.04183596  0.09766393\n",
            "  0.04255342 -0.06399718  0.08264238  0.08016318 -0.23357528  0.05872496\n",
            " -0.03939434 -0.15431258  0.00501857 -0.05328491  0.25379974  0.13406867\n",
            " -0.08882204 -0.06490285  0.16253754 -0.12021013 -0.0766991   0.0118854\n",
            " -0.12652619 -0.15868896 -0.27681756  0.08987486  0.37426853  0.18181531\n",
            " -0.20084015  0.12165369 -0.06736369 -0.04338399  0.13182542  0.08785668\n",
            " -0.0577614   0.0782269  -0.07089324  0.09730944  0.19480614  0.03451128\n",
            " -0.0410722   0.20230861  0.05983687  0.09413481  0.12193286  0.04677014\n",
            " -0.03352085 -0.0254445  -0.18052951  0.05484973  0.00689548 -0.05512176\n",
            "  0.01921362  0.12395191 -0.12390513  0.19541574  0.0705426  -0.05301466\n",
            " -0.05805055  0.04601187 -0.09193395 -0.07071915  0.07559211 -0.25744557\n",
            "  0.16632819  0.11917676  0.00046282  0.19935989  0.0487837   0.06326503\n",
            " -0.06395945 -0.08960283 -0.08717121 -0.06204791  0.1137268   0.04170532\n",
            "  0.10794377  0.06155992]\n",
            "\n",
            "Hi\n",
            "frame_5.jpg\n",
            "Matching the face in frame 5...\n",
            "[-0.12938154  0.04397871  0.12008181 -0.1116945  -0.04480134 -0.01133937\n",
            " -0.06303881 -0.08296648  0.1343292  -0.11679567  0.17539909  0.02214931\n",
            " -0.18669552 -0.09800345 -0.02907153  0.09101044 -0.08470522 -0.1744433\n",
            "  0.04150622 -0.06455001  0.04269253  0.04895158 -0.04242545  0.06575406\n",
            " -0.15585041 -0.32681337 -0.11523079 -0.06075643 -0.05885307 -0.06793226\n",
            " -0.01753602  0.11334543 -0.19832687 -0.01332787 -0.04076429  0.13203214\n",
            " -0.05002024 -0.03148558  0.18131378  0.03252873 -0.11749629 -0.00298353\n",
            "  0.01059557  0.33547136  0.12062614 -0.02287051  0.01261152 -0.01118436\n",
            "  0.1045344  -0.25174338  0.01908216  0.1830498   0.04183596  0.09766393\n",
            "  0.04255342 -0.06399718  0.08264238  0.08016318 -0.23357528  0.05872496\n",
            " -0.03939434 -0.15431258  0.00501857 -0.05328491  0.25379974  0.13406867\n",
            " -0.08882204 -0.06490285  0.16253754 -0.12021013 -0.0766991   0.0118854\n",
            " -0.12652619 -0.15868896 -0.27681756  0.08987486  0.37426853  0.18181531\n",
            " -0.20084015  0.12165369 -0.06736369 -0.04338399  0.13182542  0.08785668\n",
            " -0.0577614   0.0782269  -0.07089324  0.09730944  0.19480614  0.03451128\n",
            " -0.0410722   0.20230861  0.05983687  0.09413481  0.12193286  0.04677014\n",
            " -0.03352085 -0.0254445  -0.18052951  0.05484973  0.00689548 -0.05512176\n",
            "  0.01921362  0.12395191 -0.12390513  0.19541574  0.0705426  -0.05301466\n",
            " -0.05805055  0.04601187 -0.09193395 -0.07071915  0.07559211 -0.25744557\n",
            "  0.16632819  0.11917676  0.00046282  0.19935989  0.0487837   0.06326503\n",
            " -0.06395945 -0.08960283 -0.08717121 -0.06204791  0.1137268   0.04170532\n",
            "  0.10794377  0.06155992]\n",
            "\n",
            "Hi\n",
            "frame_6.jpg\n",
            "Done\n",
            "Did not found face in either image or video. Can't proceed to compare with image\n",
            "Hi\n",
            "frame_7.jpg\n",
            "Matching the face in frame 7...\n",
            "[-0.12938154  0.04397871  0.12008181 -0.1116945  -0.04480134 -0.01133937\n",
            " -0.06303881 -0.08296648  0.1343292  -0.11679567  0.17539909  0.02214931\n",
            " -0.18669552 -0.09800345 -0.02907153  0.09101044 -0.08470522 -0.1744433\n",
            "  0.04150622 -0.06455001  0.04269253  0.04895158 -0.04242545  0.06575406\n",
            " -0.15585041 -0.32681337 -0.11523079 -0.06075643 -0.05885307 -0.06793226\n",
            " -0.01753602  0.11334543 -0.19832687 -0.01332787 -0.04076429  0.13203214\n",
            " -0.05002024 -0.03148558  0.18131378  0.03252873 -0.11749629 -0.00298353\n",
            "  0.01059557  0.33547136  0.12062614 -0.02287051  0.01261152 -0.01118436\n",
            "  0.1045344  -0.25174338  0.01908216  0.1830498   0.04183596  0.09766393\n",
            "  0.04255342 -0.06399718  0.08264238  0.08016318 -0.23357528  0.05872496\n",
            " -0.03939434 -0.15431258  0.00501857 -0.05328491  0.25379974  0.13406867\n",
            " -0.08882204 -0.06490285  0.16253754 -0.12021013 -0.0766991   0.0118854\n",
            " -0.12652619 -0.15868896 -0.27681756  0.08987486  0.37426853  0.18181531\n",
            " -0.20084015  0.12165369 -0.06736369 -0.04338399  0.13182542  0.08785668\n",
            " -0.0577614   0.0782269  -0.07089324  0.09730944  0.19480614  0.03451128\n",
            " -0.0410722   0.20230861  0.05983687  0.09413481  0.12193286  0.04677014\n",
            " -0.03352085 -0.0254445  -0.18052951  0.05484973  0.00689548 -0.05512176\n",
            "  0.01921362  0.12395191 -0.12390513  0.19541574  0.0705426  -0.05301466\n",
            " -0.05805055  0.04601187 -0.09193395 -0.07071915  0.07559211 -0.25744557\n",
            "  0.16632819  0.11917676  0.00046282  0.19935989  0.0487837   0.06326503\n",
            " -0.06395945 -0.08960283 -0.08717121 -0.06204791  0.1137268   0.04170532\n",
            "  0.10794377  0.06155992]\n",
            "\n",
            "Hi\n",
            "frame_8.jpg\n",
            "Matching the face in frame 8...\n",
            "[-0.12938154  0.04397871  0.12008181 -0.1116945  -0.04480134 -0.01133937\n",
            " -0.06303881 -0.08296648  0.1343292  -0.11679567  0.17539909  0.02214931\n",
            " -0.18669552 -0.09800345 -0.02907153  0.09101044 -0.08470522 -0.1744433\n",
            "  0.04150622 -0.06455001  0.04269253  0.04895158 -0.04242545  0.06575406\n",
            " -0.15585041 -0.32681337 -0.11523079 -0.06075643 -0.05885307 -0.06793226\n",
            " -0.01753602  0.11334543 -0.19832687 -0.01332787 -0.04076429  0.13203214\n",
            " -0.05002024 -0.03148558  0.18131378  0.03252873 -0.11749629 -0.00298353\n",
            "  0.01059557  0.33547136  0.12062614 -0.02287051  0.01261152 -0.01118436\n",
            "  0.1045344  -0.25174338  0.01908216  0.1830498   0.04183596  0.09766393\n",
            "  0.04255342 -0.06399718  0.08264238  0.08016318 -0.23357528  0.05872496\n",
            " -0.03939434 -0.15431258  0.00501857 -0.05328491  0.25379974  0.13406867\n",
            " -0.08882204 -0.06490285  0.16253754 -0.12021013 -0.0766991   0.0118854\n",
            " -0.12652619 -0.15868896 -0.27681756  0.08987486  0.37426853  0.18181531\n",
            " -0.20084015  0.12165369 -0.06736369 -0.04338399  0.13182542  0.08785668\n",
            " -0.0577614   0.0782269  -0.07089324  0.09730944  0.19480614  0.03451128\n",
            " -0.0410722   0.20230861  0.05983687  0.09413481  0.12193286  0.04677014\n",
            " -0.03352085 -0.0254445  -0.18052951  0.05484973  0.00689548 -0.05512176\n",
            "  0.01921362  0.12395191 -0.12390513  0.19541574  0.0705426  -0.05301466\n",
            " -0.05805055  0.04601187 -0.09193395 -0.07071915  0.07559211 -0.25744557\n",
            "  0.16632819  0.11917676  0.00046282  0.19935989  0.0487837   0.06326503\n",
            " -0.06395945 -0.08960283 -0.08717121 -0.06204791  0.1137268   0.04170532\n",
            "  0.10794377  0.06155992]\n",
            "\n",
            "Hi\n",
            "frame_9.jpg\n",
            "Done\n",
            "Did not found face in either image or video. Can't proceed to compare with image\n",
            "Hi\n",
            "frame_10.jpg\n",
            "Matching the face in frame 10...\n",
            "[-0.12938154  0.04397871  0.12008181 -0.1116945  -0.04480134 -0.01133937\n",
            " -0.06303881 -0.08296648  0.1343292  -0.11679567  0.17539909  0.02214931\n",
            " -0.18669552 -0.09800345 -0.02907153  0.09101044 -0.08470522 -0.1744433\n",
            "  0.04150622 -0.06455001  0.04269253  0.04895158 -0.04242545  0.06575406\n",
            " -0.15585041 -0.32681337 -0.11523079 -0.06075643 -0.05885307 -0.06793226\n",
            " -0.01753602  0.11334543 -0.19832687 -0.01332787 -0.04076429  0.13203214\n",
            " -0.05002024 -0.03148558  0.18131378  0.03252873 -0.11749629 -0.00298353\n",
            "  0.01059557  0.33547136  0.12062614 -0.02287051  0.01261152 -0.01118436\n",
            "  0.1045344  -0.25174338  0.01908216  0.1830498   0.04183596  0.09766393\n",
            "  0.04255342 -0.06399718  0.08264238  0.08016318 -0.23357528  0.05872496\n",
            " -0.03939434 -0.15431258  0.00501857 -0.05328491  0.25379974  0.13406867\n",
            " -0.08882204 -0.06490285  0.16253754 -0.12021013 -0.0766991   0.0118854\n",
            " -0.12652619 -0.15868896 -0.27681756  0.08987486  0.37426853  0.18181531\n",
            " -0.20084015  0.12165369 -0.06736369 -0.04338399  0.13182542  0.08785668\n",
            " -0.0577614   0.0782269  -0.07089324  0.09730944  0.19480614  0.03451128\n",
            " -0.0410722   0.20230861  0.05983687  0.09413481  0.12193286  0.04677014\n",
            " -0.03352085 -0.0254445  -0.18052951  0.05484973  0.00689548 -0.05512176\n",
            "  0.01921362  0.12395191 -0.12390513  0.19541574  0.0705426  -0.05301466\n",
            " -0.05805055  0.04601187 -0.09193395 -0.07071915  0.07559211 -0.25744557\n",
            "  0.16632819  0.11917676  0.00046282  0.19935989  0.0487837   0.06326503\n",
            " -0.06395945 -0.08960283 -0.08717121 -0.06204791  0.1137268   0.04170532\n",
            "  0.10794377  0.06155992]\n",
            "\n",
            "Hi\n",
            "frame_11.jpg\n",
            "Matching the face in frame 11...\n",
            "[-0.12938154  0.04397871  0.12008181 -0.1116945  -0.04480134 -0.01133937\n",
            " -0.06303881 -0.08296648  0.1343292  -0.11679567  0.17539909  0.02214931\n",
            " -0.18669552 -0.09800345 -0.02907153  0.09101044 -0.08470522 -0.1744433\n",
            "  0.04150622 -0.06455001  0.04269253  0.04895158 -0.04242545  0.06575406\n",
            " -0.15585041 -0.32681337 -0.11523079 -0.06075643 -0.05885307 -0.06793226\n",
            " -0.01753602  0.11334543 -0.19832687 -0.01332787 -0.04076429  0.13203214\n",
            " -0.05002024 -0.03148558  0.18131378  0.03252873 -0.11749629 -0.00298353\n",
            "  0.01059557  0.33547136  0.12062614 -0.02287051  0.01261152 -0.01118436\n",
            "  0.1045344  -0.25174338  0.01908216  0.1830498   0.04183596  0.09766393\n",
            "  0.04255342 -0.06399718  0.08264238  0.08016318 -0.23357528  0.05872496\n",
            " -0.03939434 -0.15431258  0.00501857 -0.05328491  0.25379974  0.13406867\n",
            " -0.08882204 -0.06490285  0.16253754 -0.12021013 -0.0766991   0.0118854\n",
            " -0.12652619 -0.15868896 -0.27681756  0.08987486  0.37426853  0.18181531\n",
            " -0.20084015  0.12165369 -0.06736369 -0.04338399  0.13182542  0.08785668\n",
            " -0.0577614   0.0782269  -0.07089324  0.09730944  0.19480614  0.03451128\n",
            " -0.0410722   0.20230861  0.05983687  0.09413481  0.12193286  0.04677014\n",
            " -0.03352085 -0.0254445  -0.18052951  0.05484973  0.00689548 -0.05512176\n",
            "  0.01921362  0.12395191 -0.12390513  0.19541574  0.0705426  -0.05301466\n",
            " -0.05805055  0.04601187 -0.09193395 -0.07071915  0.07559211 -0.25744557\n",
            "  0.16632819  0.11917676  0.00046282  0.19935989  0.0487837   0.06326503\n",
            " -0.06395945 -0.08960283 -0.08717121 -0.06204791  0.1137268   0.04170532\n",
            "  0.10794377  0.06155992]\n",
            "\n",
            "Hi\n",
            "frame_12.jpg\n",
            "Matching the face in frame 12...\n",
            "[-0.12938154  0.04397871  0.12008181 -0.1116945  -0.04480134 -0.01133937\n",
            " -0.06303881 -0.08296648  0.1343292  -0.11679567  0.17539909  0.02214931\n",
            " -0.18669552 -0.09800345 -0.02907153  0.09101044 -0.08470522 -0.1744433\n",
            "  0.04150622 -0.06455001  0.04269253  0.04895158 -0.04242545  0.06575406\n",
            " -0.15585041 -0.32681337 -0.11523079 -0.06075643 -0.05885307 -0.06793226\n",
            " -0.01753602  0.11334543 -0.19832687 -0.01332787 -0.04076429  0.13203214\n",
            " -0.05002024 -0.03148558  0.18131378  0.03252873 -0.11749629 -0.00298353\n",
            "  0.01059557  0.33547136  0.12062614 -0.02287051  0.01261152 -0.01118436\n",
            "  0.1045344  -0.25174338  0.01908216  0.1830498   0.04183596  0.09766393\n",
            "  0.04255342 -0.06399718  0.08264238  0.08016318 -0.23357528  0.05872496\n",
            " -0.03939434 -0.15431258  0.00501857 -0.05328491  0.25379974  0.13406867\n",
            " -0.08882204 -0.06490285  0.16253754 -0.12021013 -0.0766991   0.0118854\n",
            " -0.12652619 -0.15868896 -0.27681756  0.08987486  0.37426853  0.18181531\n",
            " -0.20084015  0.12165369 -0.06736369 -0.04338399  0.13182542  0.08785668\n",
            " -0.0577614   0.0782269  -0.07089324  0.09730944  0.19480614  0.03451128\n",
            " -0.0410722   0.20230861  0.05983687  0.09413481  0.12193286  0.04677014\n",
            " -0.03352085 -0.0254445  -0.18052951  0.05484973  0.00689548 -0.05512176\n",
            "  0.01921362  0.12395191 -0.12390513  0.19541574  0.0705426  -0.05301466\n",
            " -0.05805055  0.04601187 -0.09193395 -0.07071915  0.07559211 -0.25744557\n",
            "  0.16632819  0.11917676  0.00046282  0.19935989  0.0487837   0.06326503\n",
            " -0.06395945 -0.08960283 -0.08717121 -0.06204791  0.1137268   0.04170532\n",
            "  0.10794377  0.06155992]\n",
            "\n",
            "0.7346655013770721\n"
          ]
        }
      ],
      "source": [
        "# from skimage.io import imread\n",
        "# !pip install cpbd\n",
        "# !pip install scipy==1.1.0\n",
        "# !pip install imageio\n",
        "# # from src.cpbd import compute\n",
        "# import cpbd\n",
        "# from imageio import imread\n",
        "from PIL import Image\n",
        "\n",
        "\n",
        "\n",
        "def face_distance_to_conf(face_distance, face_match_threshold=0.5):\n",
        "    if face_distance > face_match_threshold:\n",
        "        range_distance = (1.0 - face_match_threshold)\n",
        "        linear_val = (1.0 - face_distance) / (range_distance * 2.0)\n",
        "        return linear_val\n",
        "    else:\n",
        "        range_distance = face_match_threshold\n",
        "        linear_val = 1.0 - (face_distance / (range_distance * 2.0))\n",
        "        return linear_val + ((1.0 - linear_val) * math.pow((linear_val - 0.5) * 2, 0.2))\n",
        "# def calculate_sharpness(known_image_path, cropped_image_path):\n",
        "#     known_image = imread(known_image_path, pilmode='L')\n",
        "#     cropped_image = imread(cropped_image_path, pilmode='L')\n",
        "#     return cpbd.compute(known_image) - cpbd.compute(cropped_image)\n",
        "face_found_in_image = False\n",
        "face_found_in_video = False\n",
        "final_confidence = None\n",
        "is_match = None\n",
        "confidences_list = []\n",
        "known_face_encoding = []\n",
        "sharpness_similarity = None\n",
        "known_path=\"/content/gdrive/MyDrive/License.jpeg\"\n",
        "video_path=\"/content/gdrive/MyDrive/IMG_5272_2_MOV_AdobeExpress.mp4\"\n",
        "request_upload_folder_path=\"/content/gdrive/MyDrive/ccnnotes\"\n",
        "request_frames_folder_path=\"/content/gdrive/MyDrive/images\"\n",
        "tolerance=0.50\n",
        "face_match_threshold=0.70\n",
        "sharpness_threshold=0.60\n",
        "\n",
        "cropped_face_path = os.path.join(request_upload_folder_path, \"cropped_face.jpg\")\n",
        "\n",
        "    # declare json key and default value pair\n",
        "\n",
        "# Load the uploaded image file\n",
        "known_image = face_recognition.load_image_file(known_path)\n",
        "# face_encodings without [] is to get face encodings for any faces in the uploaded image\n",
        "known_face_encodings = face_recognition.face_encodings(known_image)\n",
        "if len(known_face_encodings) > 0:\n",
        "        # since i know the image will always have 1 face, so only get the first face detected\n",
        "        known_face_encoding = face_recognition.face_encodings(known_image)[0]\n",
        "        face_found_in_image = True\n",
        "        print(\"Found face in image\")\n",
        "        top, right, bottom, left = face_recognition.face_locations(known_image)[0]\n",
        "        face_image = known_image[top:bottom, left:right]\n",
        "        cropped_face = Image.fromarray(face_image)\n",
        "        cropped_face.save(cropped_face_path, \"JPEG\")\n",
        "\n",
        "\n",
        "for i, frame in enumerate(os.listdir(request_frames_folder_path)):\n",
        "    if(str(frame)==\".ipynb_checkpoints\" or str(frame)=='.DS_Store'):\n",
        "      continue\n",
        "    print(\"Hi\")\n",
        "    print(frame)\n",
        "    # face_recognition.load_image_file(\"/content/drive/MyDrive/shasvat2.jpg\")\n",
        "    absolute_video_frame_directory_file = os.path.join(request_frames_folder_path, frame)\n",
        "    unknown_image = face_recognition.load_image_file(absolute_video_frame_directory_file)\n",
        "    unknown_face_encodings = face_recognition.face_encodings(unknown_image)\n",
        "\n",
        "    # if extracted unknown frames have face,\n",
        "    if len(unknown_face_encodings) > 0:\n",
        "        print(\"Matching the face in frame %d...\" % i)\n",
        "        unknown_face_encoding = face_recognition.face_encodings(unknown_image, num_jitters=1)[0]\n",
        "        print(known_face_encoding)\n",
        "        print()\n",
        "        face_distances = face_recognition.face_distance([known_face_encoding], unknown_face_encoding)\n",
        "        confidence = face_distance_to_conf(face_distances, tolerance)\n",
        "        confidences_list.append(confidence[0])\n",
        "\n",
        "        # See if the first face in the uploaded image matches the known face\n",
        "        # provide tolerance level to specify how strict it is. By default is 0.5\n",
        "        # Uncomment below for use the API\n",
        "        # match_results = face_recognition.compare_faces([known_face_encoding], unknown_face_encoding,\n",
        "        #                                                tolerance=tolerance)\n",
        "        # print(match_results)\n",
        "    else:\n",
        "        print(\"Done\")\n",
        "        print(\"Did not found face in either image or video. Can't proceed to compare with image\")\n",
        "\n",
        "\n",
        "    #####\n",
        "    # Part 4\n",
        "    # Check whether face match confidence > threshold\n",
        "    # and check whether sharpness > threshold\n",
        "    # and return the result as Json\n",
        "    #####\n",
        "final_confidence = sum(confidences_list) / float(len(confidences_list))\n",
        "print(final_confidence)\n",
        "\n",
        "if final_confidence >= face_match_threshold:\n",
        "    is_match = True\n",
        "else:\n",
        "    is_match = False"
      ]
    },
    {
      "cell_type": "code",
      "execution_count": null,
      "metadata": {
        "colab": {
          "base_uri": "https://localhost:8080/"
        },
        "id": "60NAt-4MqO0N",
        "outputId": "fbb4bae6-050a-4c31-ba99-c67f0ec926c7"
      },
      "outputs": [
        {
          "output_type": "execute_result",
          "data": {
            "text/plain": [
              "True"
            ]
          },
          "metadata": {},
          "execution_count": 11
        }
      ],
      "source": [
        "is_match"
      ]
    }
  ],
  "metadata": {
    "accelerator": "GPU",
    "colab": {
      "provenance": []
    },
    "kernelspec": {
      "display_name": "Python 3",
      "name": "python3"
    },
    "language_info": {
      "name": "python"
    }
  },
  "nbformat": 4,
  "nbformat_minor": 0
}